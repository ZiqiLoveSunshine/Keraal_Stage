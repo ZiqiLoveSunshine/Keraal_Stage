{
 "cells": [
  {
   "cell_type": "code",
   "execution_count": 38,
   "id": "cd6882c7",
   "metadata": {},
   "outputs": [],
   "source": [
    "import numpy as np\n",
    "from scipy.spatial.transform import Rotation as R"
   ]
  },
  {
   "cell_type": "markdown",
   "id": "9139bf5c",
   "metadata": {},
   "source": [
    "# Pelvis worldposition"
   ]
  },
  {
   "cell_type": "code",
   "execution_count": 58,
   "id": "f1f8e396",
   "metadata": {},
   "outputs": [],
   "source": [
    "position_pelvis = np.array([-0.588198, 80.405891, 0.093877])\n",
    "stransmat_pelvis = np.array([[1., 0., 0., 0.],[0., 1., 0., 0.],\n",
    "                             [0., 0., 1., 0.],[0., 0., 0., 1.]])\n",
    "stransmat_pelvis[0, 3] = 0 #offset\n",
    "stransmat_pelvis[1, 3] = 0\n",
    "stransmat_pelvis[2, 3] = 0\n",
    "\n",
    "dtransmat_pelvis = np.array([[1., 0., 0., 0.], [0., 1., 0., 0.],\n",
    "                   [0., 0., 1., 0.], [0., 0., 0., 1.]])\n",
    "dtransmat_pelvis[0, 3] = position_pelvis[0] #position\n",
    "dtransmat_pelvis[1, 3] = position_pelvis[1]\n",
    "dtransmat_pelvis[2, 3] = position_pelvis[2]\n"
   ]
  },
  {
   "cell_type": "code",
   "execution_count": 40,
   "id": "3e6c1e9f",
   "metadata": {},
   "outputs": [],
   "source": [
    "#rotation\n",
    "rotx_pelvis = -19.801004\n",
    "roty_pelvis = -82.304784\n",
    "rotz_pelvis = -21.016957\n",
    "\n",
    "Rxp = R.from_euler('x', rotx_pelvis, degrees=True).as_matrix()\n",
    "Rxp = np.vstack((Rxp,[0,0,0]))\n",
    "Rxp = np.hstack((Rxp,[[0],[0],[0],[1]]))\n",
    "Ryp = R.from_euler('y', roty_pelvis, degrees=True).as_matrix()\n",
    "Ryp = np.vstack((Ryp,[0,0,0]))\n",
    "Ryp = np.hstack((Ryp,[[0],[0],[0],[1]]))\n",
    "Rzp = R.from_euler('z', rotz_pelvis, degrees=True).as_matrix()\n",
    "Rzp = np.vstack((Rzp,[0,0,0]))\n",
    "Rzp = np.hstack((Rzp,[[0],[0],[0],[1]]))\n",
    "\n",
    "drotmat_pelvis = np.matmul(np.matmul(Rxp,Ryp),Rzp)"
   ]
  },
  {
   "cell_type": "code",
   "execution_count": 41,
   "id": "9676e9db",
   "metadata": {},
   "outputs": [
    {
     "name": "stdout",
     "output_type": "stream",
     "text": [
      "[[ 1.        0.        0.       -0.588198]\n",
      " [ 0.        1.        0.       80.405891]\n",
      " [ 0.        0.        1.        0.093877]\n",
      " [ 0.        0.        0.        1.      ]]\n",
      "[[ 1.24995424e-01  4.80236969e-02 -9.90994384e-01 -5.88198000e-01]\n",
      " [-2.40685332e-02  9.98680701e-01  4.53603809e-02  8.04058910e+01]\n",
      " [ 9.91865338e-01  1.81819412e-02  1.25986378e-01  9.38770000e-02]\n",
      " [ 0.00000000e+00  0.00000000e+00  0.00000000e+00  1.00000000e+00]]\n"
     ]
    }
   ],
   "source": [
    "localtoworld_pelvis = np.matmul(stransmat_pelvis,dtransmat_pelvis)\n",
    "print(localtoworld_pelvis)\n",
    "pelvis_trtr = np.matmul(localtoworld_pelvis,drotmat_pelvis)\n",
    "print(pelvis_trtr)"
   ]
  },
  {
   "cell_type": "markdown",
   "id": "fca14465",
   "metadata": {},
   "source": [
    "# LeftupLeg worldposition"
   ]
  },
  {
   "cell_type": "code",
   "execution_count": 56,
   "id": "cfdcf722",
   "metadata": {},
   "outputs": [],
   "source": [
    "offset_leftupleg = np.array([8.479700, -4.795502, -0.379100])\n",
    "stransmat_leftupleg = np.array([[1., 0., 0., 0.],[0., 1., 0., 0.],\n",
    "                             [0., 0., 1., 0.],[0., 0., 0., 1.]])\n",
    "stransmat_leftupleg[0, 3] = offset_leftupleg[0] #offset\n",
    "stransmat_leftupleg[1, 3] = offset_leftupleg[1]\n",
    "stransmat_leftupleg[2, 3] = offset_leftupleg[2]\n",
    "\n",
    "rotX = -17.820706 \n",
    "rotY = 14.832582 \n",
    "rotZ = 9.603647\n",
    "\n",
    "Rx = R.from_euler('x', rotX, degrees=True).as_matrix()\n",
    "Ry = R.from_euler('y', rotY, degrees=True).as_matrix()\n",
    "Rz = R.from_euler('z', rotZ, degrees=True).as_matrix()\n",
    "\n",
    "drotmat_leftupleg = np.matmul(np.matmul(Rx,Ry),Rz)"
   ]
  },
  {
   "cell_type": "code",
   "execution_count": 57,
   "id": "3a4ac1fc",
   "metadata": {},
   "outputs": [
    {
     "name": "stdout",
     "output_type": "stream",
     "text": [
      "[[ 1.24995424e-01  4.80236969e-02 -9.90994384e-01  6.17113937e-01]\n",
      " [-2.40685332e-02  9.98680701e-01  4.53603809e-02  7.53954256e+01]\n",
      " [ 9.91865338e-01  1.81819412e-02  1.25986378e-01  8.36964454e+00]\n",
      " [ 0.00000000e+00  0.00000000e+00  0.00000000e+00  1.00000000e+00]]\n"
     ]
    }
   ],
   "source": [
    "# print(stransmat_leftupleg[0,3])\n",
    "localtoworld_leftupleg = np.dot(pelvis_trtr,stransmat_leftupleg)\n",
    "print(localtoworld_leftupleg)"
   ]
  },
  {
   "cell_type": "code",
   "execution_count": null,
   "id": "df01d5da",
   "metadata": {},
   "outputs": [],
   "source": [
    "0.617113937,75.39542564, 8.369644539"
   ]
  },
  {
   "cell_type": "markdown",
   "id": "8d25d9a0",
   "metadata": {},
   "source": [
    "# Method 2"
   ]
  },
  {
   "cell_type": "code",
   "execution_count": 6,
   "id": "b02775d0",
   "metadata": {},
   "outputs": [],
   "source": [
    "import numpy as np\n",
    "from scipy.spatial.transform import Rotation as R\n",
    "position_pelvis = np.array([-0.588198, 80.405891, 0.093877])\n",
    "stransmat_pelvis = np.array([[1., 0., 0., 0.],[0., 1., 0., 0.],\n",
    "                             [0., 0., 1., 0.],[0., 0., 0., 1.]])\n",
    "stransmat_pelvis[0, 3] = 0 #offset\n",
    "stransmat_pelvis[1, 3] = 0\n",
    "stransmat_pelvis[2, 3] = 0\n",
    "\n",
    "dtransmat_pelvis = np.array([[1., 0., 0., 0.], [0., 1., 0., 0.],\n",
    "                   [0., 0., 1., 0.], [0., 0., 0., 1.]])\n",
    "dtransmat_pelvis[0, 3] = position_pelvis[0] #position\n",
    "dtransmat_pelvis[1, 3] = position_pelvis[1]\n",
    "dtransmat_pelvis[2, 3] = position_pelvis[2]"
   ]
  },
  {
   "cell_type": "code",
   "execution_count": 7,
   "id": "813bb64e",
   "metadata": {},
   "outputs": [],
   "source": [
    "#rotation\n",
    "rotx_pelvis = -19.801004\n",
    "roty_pelvis = -82.304784\n",
    "rotz_pelvis = -21.016957\n",
    "\n",
    "Rxp = R.from_euler('x', rotx_pelvis, degrees=True).as_matrix()\n",
    "# Rxp = np.vstack((Rxp,[0,0,0]))\n",
    "# Rxp = np.hstack((Rxp,[[0],[0],[0],[1]]))\n",
    "Ryp = R.from_euler('y', roty_pelvis, degrees=True).as_matrix()\n",
    "# Ryp = np.vstack((Ryp,[0,0,0]))\n",
    "# Ryp = np.hstack((Ryp,[[0],[0],[0],[1]]))\n",
    "Rzp = R.from_euler('z', rotz_pelvis, degrees=True).as_matrix()\n",
    "# Rzp = np.vstack((Rzp,[0,0,0]))\n",
    "# Rzp = np.hstack((Rzp,[[0],[0],[0],[1]]))\n",
    "\n",
    "drotmat_pelvis = np.matmul(np.matmul(Rxp,Ryp),Rzp)"
   ]
  },
  {
   "cell_type": "code",
   "execution_count": 12,
   "id": "fd267d39",
   "metadata": {},
   "outputs": [
    {
     "name": "stdout",
     "output_type": "stream",
     "text": [
      "[-1.91566058 80.27327097  4.24196998]\n"
     ]
    }
   ],
   "source": [
    "# localtoworld_pelvis = np.matmul(stransmat_pelvis,dtransmat_pelvis)\n",
    "# print(localtoworld_pelvis)\n",
    "localtoworld_pelvis = np.array([-0.588198, 80.405891, 0.093877])\n",
    "pelvis_trtr = np.matmul(localtoworld_pelvis,drotmat_pelvis)\n",
    "print(pelvis_trtr)"
   ]
  },
  {
   "cell_type": "code",
   "execution_count": null,
   "id": "e9b01f2d",
   "metadata": {},
   "outputs": [],
   "source": []
  }
 ],
 "metadata": {
  "kernelspec": {
   "display_name": "Python 3 (ipykernel)",
   "language": "python",
   "name": "python3"
  },
  "language_info": {
   "codemirror_mode": {
    "name": "ipython",
    "version": 3
   },
   "file_extension": ".py",
   "mimetype": "text/x-python",
   "name": "python",
   "nbconvert_exporter": "python",
   "pygments_lexer": "ipython3",
   "version": "3.9.12"
  }
 },
 "nbformat": 4,
 "nbformat_minor": 5
}

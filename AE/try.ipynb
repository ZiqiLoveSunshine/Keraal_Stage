{
 "cells": [
  {
   "cell_type": "markdown",
   "id": "83b61048",
   "metadata": {},
   "source": [
    "# Encoder-Decoder"
   ]
  },
  {
   "cell_type": "code",
   "execution_count": 1,
   "id": "2492dd00",
   "metadata": {},
   "outputs": [
    {
     "name": "stderr",
     "output_type": "stream",
     "text": [
      "d:\\anaconda3\\envs\\keraal\\lib\\site-packages\\tqdm\\auto.py:22: TqdmWarning: IProgress not found. Please update jupyter and ipywidgets. See https://ipywidgets.readthedocs.io/en/stable/user_install.html\n",
      "  from .autonotebook import tqdm as notebook_tqdm\n"
     ]
    }
   ],
   "source": [
    "from models.enc_and_dec import Encoder,Decoder\n",
    "from models.simple_GAN import Discriminator\n",
    "import option_parser\n",
    "import torch"
   ]
  },
  {
   "cell_type": "code",
   "execution_count": 3,
   "id": "a4787dde",
   "metadata": {
    "scrolled": true
   },
   "outputs": [],
   "source": [
    "parser = option_parser.get_parser()\n",
    "args, unknown = parser.parse_known_args()\n",
    "topo = (0, 0, 1, 2, 3, 0, 5, 6, 7, 0, 9, 10, 11, 12, 13, 12, 15, 16, 17, 12, 19, 20, 21)\n",
    "data = torch.rand((256, 64, 23, 3))\n",
    "offset = torch.rand((256, 64, 23, 1))"
   ]
  },
  {
   "cell_type": "code",
   "execution_count": 4,
   "id": "d57745a0",
   "metadata": {},
   "outputs": [
    {
     "name": "stdout",
     "output_type": "stream",
     "text": [
      "torch.Size([256, 16, 23, 16])\n",
      "torch.Size([256, 64, 23, 3])\n"
     ]
    }
   ],
   "source": [
    "#test encoder, decoder\n",
    "enc = Encoder(args, topo)\n",
    "\n",
    "z = enc(data, offset)\n",
    "print(z.shape)\n",
    "dec = Decoder(args,enc)\n",
    "offset2 = torch.rand((256, 16,23,1))\n",
    "reconstruct = dec(z, offset2)\n",
    "print(reconstruct.shape)"
   ]
  },
  {
   "cell_type": "code",
   "execution_count": 5,
   "id": "5a96d694",
   "metadata": {},
   "outputs": [
    {
     "name": "stdout",
     "output_type": "stream",
     "text": [
      "torch.Size([256, 16, 1])\n"
     ]
    }
   ],
   "source": [
    "dis = Discriminator(args,topo)\n",
    "data = torch.rand((256, 64, 23, 3))\n",
    "offset = torch.rand((256, 64, 23, 1))\n",
    "\n",
    "new_input = torch.concat([data,offset],dim = -1)\n",
    "res = dis(new_input)\n",
    "print(res.shape)"
   ]
  },
  {
   "cell_type": "markdown",
   "id": "d6358126",
   "metadata": {},
   "source": [
    "# Network"
   ]
  },
  {
   "cell_type": "code",
   "execution_count": 5,
   "id": "da973a4e",
   "metadata": {},
   "outputs": [
    {
     "name": "stdout",
     "output_type": "stream",
     "text": [
      "load from file ./datasets/train_set/npy/Mousey.npy\n",
      "Window count: 523, total frame: 21582\n",
      "load from file ./datasets/train_set/npy/Goblin.npy\n",
      "Window count: 523, total frame: 21582\n",
      "load from file ./datasets/train_set/npy/Mremireh.npy\n",
      "Window count: 523, total frame: 21582\n",
      "load from file ./datasets/train_set/npy/Vampire.npy\n",
      "Window count: 523, total frame: 21582\n",
      "523\n",
      "[1, 3]\n",
      "[0, 1]\n",
      "[1, 3]\n",
      "[1, 0]\n",
      "[0, 3]\n",
      "[0, 2]\n",
      "[2, 1]\n",
      "[2, 0]\n",
      "[1, 3]\n",
      "[1, 2]\n",
      "[2, 1]\n",
      "[3, 1]\n",
      "[3, 1]\n",
      "[0, 2]\n",
      "[3, 1]\n",
      "[3, 0]\n",
      "[1, 0]\n",
      "[3, 1]\n",
      "[1, 2]\n",
      "[1, 3]\n",
      "[0, 1]\n",
      "[2, 1]\n",
      "[1, 0]\n",
      "[0, 2]\n",
      "[0, 1]\n",
      "[0, 1]\n",
      "[1, 3]\n",
      "[2, 1]\n",
      "[1, 2]\n",
      "[3, 0]\n",
      "[2, 3]\n",
      "[2, 0]\n"
     ]
    },
    {
     "name": "stderr",
     "output_type": "stream",
     "text": [
      "d:\\anaconda3\\envs\\keraal\\lib\\site-packages\\torch\\optim\\adam.py:90: UserWarning: optimizer contains a parameter group with duplicate parameters; in future, this will cause an error; see github.com/pytorch/pytorch/issues/40967 for more information\n",
      "  super(Adam, self).__init__(params, defaults)\n"
     ]
    },
    {
     "ename": "AttributeError",
     "evalue": "'list' object has no attribute 'to'",
     "output_type": "error",
     "traceback": [
      "\u001b[1;31m---------------------------------------------------------------------------\u001b[0m",
      "\u001b[1;31mAttributeError\u001b[0m                            Traceback (most recent call last)",
      "\u001b[1;32m~\\AppData\\Local\\Temp\\ipykernel_10012\\1330226651.py\u001b[0m in \u001b[0;36m<module>\u001b[1;34m\u001b[0m\n\u001b[0;32m     15\u001b[0m     \u001b[1;32mif\u001b[0m \u001b[0mstep\u001b[0m \u001b[1;33m==\u001b[0m \u001b[1;36m0\u001b[0m\u001b[1;33m:\u001b[0m\u001b[1;33m\u001b[0m\u001b[1;33m\u001b[0m\u001b[0m\n\u001b[0;32m     16\u001b[0m         \u001b[0mmodel\u001b[0m\u001b[1;33m.\u001b[0m\u001b[0mset_input\u001b[0m\u001b[1;33m(\u001b[0m\u001b[0mmotion\u001b[0m\u001b[1;33m)\u001b[0m\u001b[1;33m\u001b[0m\u001b[1;33m\u001b[0m\u001b[0m\n\u001b[1;32m---> 17\u001b[1;33m         \u001b[0mmodel\u001b[0m\u001b[1;33m.\u001b[0m\u001b[0moptimize_parameters\u001b[0m\u001b[1;33m(\u001b[0m\u001b[1;33m)\u001b[0m\u001b[1;33m\u001b[0m\u001b[1;33m\u001b[0m\u001b[0m\n\u001b[0m",
      "\u001b[1;32mg:\\Keraal_Stage\\AE\\models\\architecture2.py\u001b[0m in \u001b[0;36moptimize_parameters\u001b[1;34m(self)\u001b[0m\n\u001b[0;32m     74\u001b[0m \u001b[1;33m\u001b[0m\u001b[0m\n\u001b[0;32m     75\u001b[0m     \u001b[1;32mdef\u001b[0m \u001b[0moptimize_parameters\u001b[0m\u001b[1;33m(\u001b[0m\u001b[0mself\u001b[0m\u001b[1;33m)\u001b[0m\u001b[1;33m:\u001b[0m\u001b[1;33m\u001b[0m\u001b[1;33m\u001b[0m\u001b[0m\n\u001b[1;32m---> 76\u001b[1;33m         \u001b[0mself\u001b[0m\u001b[1;33m.\u001b[0m\u001b[0mforward\u001b[0m\u001b[1;33m(\u001b[0m\u001b[1;33m)\u001b[0m\u001b[1;33m\u001b[0m\u001b[1;33m\u001b[0m\u001b[0m\n\u001b[0m\u001b[0;32m     77\u001b[0m         \u001b[1;31m# update G\u001b[0m\u001b[1;33m\u001b[0m\u001b[1;33m\u001b[0m\u001b[1;33m\u001b[0m\u001b[0m\n\u001b[0;32m     78\u001b[0m         \u001b[0mprint\u001b[0m\u001b[1;33m(\u001b[0m\u001b[1;34m\"update\"\u001b[0m\u001b[1;33m)\u001b[0m\u001b[1;33m\u001b[0m\u001b[1;33m\u001b[0m\u001b[0m\n",
      "\u001b[1;32mg:\\Keraal_Stage\\AE\\models\\architecture2.py\u001b[0m in \u001b[0;36mforward\u001b[1;34m(self)\u001b[0m\n\u001b[0;32m     44\u001b[0m         \u001b[0mself\u001b[0m\u001b[1;33m.\u001b[0m\u001b[0moffset_repr\u001b[0m\u001b[1;33m.\u001b[0m\u001b[0mto\u001b[0m\u001b[1;33m(\u001b[0m\u001b[0mself\u001b[0m\u001b[1;33m.\u001b[0m\u001b[0mdevice\u001b[0m\u001b[1;33m)\u001b[0m\u001b[1;33m\u001b[0m\u001b[1;33m\u001b[0m\u001b[0m\n\u001b[0;32m     45\u001b[0m         \u001b[0mself\u001b[0m\u001b[1;33m.\u001b[0m\u001b[0mmotion\u001b[0m\u001b[1;33m,\u001b[0m \u001b[0mself\u001b[0m\u001b[1;33m.\u001b[0m\u001b[0moffset_idx\u001b[0m \u001b[1;33m=\u001b[0m \u001b[0mself\u001b[0m\u001b[1;33m.\u001b[0m\u001b[0mmotions_input\u001b[0m \u001b[1;31m# batch_size * frame * joint * features_in\u001b[0m\u001b[1;33m\u001b[0m\u001b[1;33m\u001b[0m\u001b[0m\n\u001b[1;32m---> 46\u001b[1;33m         \u001b[0mself\u001b[0m\u001b[1;33m.\u001b[0m\u001b[0mmotion\u001b[0m \u001b[1;33m=\u001b[0m \u001b[0mself\u001b[0m\u001b[1;33m.\u001b[0m\u001b[0mmotion\u001b[0m\u001b[1;33m.\u001b[0m\u001b[0mto\u001b[0m\u001b[1;33m(\u001b[0m\u001b[0mself\u001b[0m\u001b[1;33m.\u001b[0m\u001b[0mdevice\u001b[0m\u001b[1;33m)\u001b[0m\u001b[1;33m\u001b[0m\u001b[1;33m\u001b[0m\u001b[0m\n\u001b[0m\u001b[0;32m     47\u001b[0m \u001b[1;33m\u001b[0m\u001b[0m\n\u001b[0;32m     48\u001b[0m         \u001b[0mself\u001b[0m\u001b[1;33m.\u001b[0m\u001b[0moffset_idx\u001b[0m \u001b[1;33m=\u001b[0m \u001b[0mself\u001b[0m\u001b[1;33m.\u001b[0m\u001b[0moffset_idx\u001b[0m\u001b[1;33m[\u001b[0m\u001b[1;36m0\u001b[0m\u001b[1;33m]\u001b[0m\u001b[1;33m\u001b[0m\u001b[1;33m\u001b[0m\u001b[0m\n",
      "\u001b[1;31mAttributeError\u001b[0m: 'list' object has no attribute 'to'"
     ]
    }
   ],
   "source": [
    "from torch.utils.data.dataloader import DataLoader\n",
    "from data import create_dataset, get_character_names\n",
    "from option_parser import get_args, try_mkdir\n",
    "from models import create_model\n",
    "import torch\n",
    "args = get_args()\n",
    "# print(args)\n",
    "characters = get_character_names(args)\n",
    "dataset = create_dataset(args, characters)\n",
    "print(len(dataset))\n",
    "try_mkdir(args.save_dir)\n",
    "data_loader = DataLoader(dataset, batch_size = args.batch_size, num_workers=0)\n",
    "model = create_model(args, dataset)\n",
    "for step, motion in enumerate(data_loader):\n",
    "    if step == 0:\n",
    "        model.set_input(motion)\n",
    "        model.optimize_parameters()"
   ]
  },
  {
   "cell_type": "code",
   "execution_count": 6,
   "id": "35d9fe0f",
   "metadata": {},
   "outputs": [
    {
     "name": "stdout",
     "output_type": "stream",
     "text": [
      "torch.Size([1, 23, 1])\n"
     ]
    }
   ],
   "source": [
    "a = torch.rand(23).unsqueeze(-1).unsqueeze(0)\n",
    "print(a.shape)"
   ]
  },
  {
   "cell_type": "code",
   "execution_count": 3,
   "id": "60f142ae",
   "metadata": {},
   "outputs": [
    {
     "name": "stdout",
     "output_type": "stream",
     "text": [
      "torch.Size([128, 64, 23, 2])\n"
     ]
    }
   ],
   "source": [
    "import torch.nn as nn\n",
    "m = nn.Linear(3, 2)\n",
    "input = torch.randn(128, 64, 23, 3)\n",
    "output = m(input)\n",
    "print(output.size())"
   ]
  },
  {
   "cell_type": "code",
   "execution_count": 1,
   "id": "36d032a5",
   "metadata": {},
   "outputs": [
    {
     "name": "stderr",
     "output_type": "stream",
     "text": [
      "d:\\anaconda3\\envs\\keraal\\lib\\site-packages\\tqdm\\auto.py:22: TqdmWarning: IProgress not found. Please update jupyter and ipywidgets. See https://ipywidgets.readthedocs.io/en/stable/user_install.html\n",
      "  from .autonotebook import tqdm as notebook_tqdm\n"
     ]
    }
   ],
   "source": [
    "from models.skeleton_gnn import Node2NodeLayer, Node2EdgeLayer, Edge2NodeLayer\n",
    "import torch\n",
    "def calculate_adj_matrix(topology):\n",
    "    adj = torch.zeros(len(topology), len(topology))\n",
    "    for i,j in enumerate(topology):\n",
    "        if i == 0: #the root not in\n",
    "            continue\n",
    "        adj[j,i] = 1\n",
    "    return adj\n",
    "\n",
    "topo111 = [0, 0, 1, 2, 3, 0, 5, 6, 7, 0, 9, 10, 11, 12, 13, 12, 15, 16, 17, 12, 19, 20, 21]\n",
    "input_node = torch.rand((128, 32, 23, 3))\n",
    "input_edge = torch.rand((128, 32, 23, 1))\n",
    "batch_size = 128\n",
    "frame = 32\n",
    "length = 23\n",
    "adj = calculate_adj_matrix(topo111)\n",
    "adj_matrix = torch.cat(batch_size*frame*[adj]).reshape((batch_size, frame, length, length))\n",
    "layer2 = Edge2NodeLayer(1,3,3)\n",
    "output = layer2(input_node, input_edge, adj_matrix)\n"
   ]
  },
  {
   "cell_type": "code",
   "execution_count": 10,
   "id": "8b9b17bd",
   "metadata": {},
   "outputs": [],
   "source": [
    "from torch.nn import UpsamplingBilinear2d, Upsample\n",
    "import torch\n",
    "input = torch.arange(1, 5, dtype=torch.float32).view(1, 1, 2, 2)"
   ]
  },
  {
   "cell_type": "code",
   "execution_count": 13,
   "id": "2126aa09",
   "metadata": {},
   "outputs": [
    {
     "name": "stdout",
     "output_type": "stream",
     "text": [
      "torch.Size([1, 1, 6, 10])\n"
     ]
    }
   ],
   "source": [
    "m = UpsamplingBilinear2d(scale_factor=1.679)\n",
    "m2 = Upsample(scale_factor=(3,5), mode=\"bilinear\")\n",
    "# print(m(input))\n",
    "print(m2(input).shape)"
   ]
  },
  {
   "cell_type": "code",
   "execution_count": 1,
   "id": "ef929845",
   "metadata": {},
   "outputs": [
    {
     "name": "stdout",
     "output_type": "stream",
     "text": [
      "Parameter containing:\n",
      "tensor([[-0.0493,  0.2842, -0.2260,  0.0230, -0.0785, -0.1820, -0.1898,  0.2175,\n",
      "          0.2870, -0.0038,  0.2706],\n",
      "        [ 0.2880,  0.0537, -0.0778,  0.2507,  0.0131, -0.0855,  0.0157, -0.0123,\n",
      "          0.0627, -0.1443, -0.0664]], requires_grad=True)\n",
      "tensor([[-0.4926,  2.8419, -2.2601,  0.2299, -0.7847, -1.8200, -1.8982,  2.1745,\n",
      "          2.8703, -0.0376,  2.7064],\n",
      "        [ 2.8797,  0.5373, -0.7784,  2.5070,  0.1313, -0.8552,  0.1572, -0.1228,\n",
      "          0.6269, -1.4431, -0.6638]], grad_fn=<MulBackward0>)\n"
     ]
    },
    {
     "name": "stderr",
     "output_type": "stream",
     "text": [
      "d:\\anaconda3\\envs\\keraal\\lib\\site-packages\\tqdm\\auto.py:22: TqdmWarning: IProgress not found. Please update jupyter and ipywidgets. See https://ipywidgets.readthedocs.io/en/stable/user_install.html\n",
      "  from .autonotebook import tqdm as notebook_tqdm\n"
     ]
    }
   ],
   "source": [
    "from models.skeleton_gnn import Node2EdgeLayer\n",
    "import torch\n",
    "m = Node2EdgeLayer(20,11,2)\n",
    "x = torch.randn((1,64, 3, 3))\n",
    "e = torch.randn((1,64, 3, 1))\n",
    "\n",
    "adj_matrix = torch.Tensor([\n",
    "    [\n",
    "        [0., 1., 1.],\n",
    "        [0., 0., 0.],\n",
    "        [0., 0., 0.]\n",
    "    ]\n",
    "])"
   ]
  },
  {
   "cell_type": "code",
   "execution_count": 4,
   "id": "8db2e64f",
   "metadata": {},
   "outputs": [
    {
     "name": "stdout",
     "output_type": "stream",
     "text": [
      "tensor([[6.5431, 4.2462, 2.5434, 2.2468, 4.4117, 1.4680, 6.9981, 2.7509, 2.5631,\n",
      "         5.9814, 7.0614],\n",
      "        [4.6820, 9.1086, 9.2908, 8.2059, 4.6102, 2.9461, 3.4283, 2.4934, 3.0841,\n",
      "         5.9957, 8.7028]])\n"
     ]
    }
   ],
   "source": [
    "a = torch.rand((2,11))\n",
    "print(a*10)"
   ]
  }
 ],
 "metadata": {
  "kernelspec": {
   "display_name": "Python 3 (ipykernel)",
   "language": "python",
   "name": "python3"
  },
  "language_info": {
   "codemirror_mode": {
    "name": "ipython",
    "version": 3
   },
   "file_extension": ".py",
   "mimetype": "text/x-python",
   "name": "python",
   "nbconvert_exporter": "python",
   "pygments_lexer": "ipython3",
   "version": "3.7.13"
  },
  "vscode": {
   "interpreter": {
    "hash": "977db75128c3fed9f37c471b73bfa9a12015086b1f9f641de779e86f13efb9a2"
   }
  }
 },
 "nbformat": 4,
 "nbformat_minor": 5
}

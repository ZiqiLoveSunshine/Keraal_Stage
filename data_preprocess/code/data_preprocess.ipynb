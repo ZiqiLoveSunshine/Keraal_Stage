{
 "cells": [
  {
   "cell_type": "code",
   "execution_count": 1,
   "id": "49edd980",
   "metadata": {},
   "outputs": [],
   "source": [
    "import os"
   ]
  },
  {
   "cell_type": "markdown",
   "id": "4a584f92",
   "metadata": {},
   "source": [
    "# remove the data in test list"
   ]
  },
  {
   "cell_type": "code",
   "execution_count": 4,
   "id": "4e15a618",
   "metadata": {},
   "outputs": [],
   "source": [
    "folder = \"../Mixamo\"\n",
    "character_list = os.listdir(folder)"
   ]
  },
  {
   "cell_type": "code",
   "execution_count": 19,
   "id": "def19142",
   "metadata": {},
   "outputs": [],
   "source": [
    "with open('../test_list.txt', 'r+') as f:\n",
    "    test_list = f.readlines()\n",
    "for i in range(len(test_list)):\n",
    "    temp = test_list[i]\n",
    "    temp = temp.split('.')[0]\n",
    "    test_list[i] = temp"
   ]
  },
  {
   "cell_type": "code",
   "execution_count": 35,
   "id": "339e4ed5",
   "metadata": {},
   "outputs": [],
   "source": [
    "# print(test_list)"
   ]
  },
  {
   "cell_type": "code",
   "execution_count": 34,
   "id": "937f0423",
   "metadata": {},
   "outputs": [],
   "source": [
    "for character in character_list:\n",
    "    mouvement_list = os.listdir(os.path.join(folder, character))\n",
    "    for mouvement in mouvement_list:\n",
    "        name = mouvement.split('.')[0]\n",
    "#         print(name)\n",
    "        if name in test_list:\n",
    "            print(character, name)\n",
    "            cmd = '../Mixamo/{}/{}'.format(character,mouvement)\n",
    "            print(cmd)\n",
    "            os.remove(cmd)"
   ]
  },
  {
   "cell_type": "markdown",
   "id": "b48ae9f6",
   "metadata": {},
   "source": [
    "# remove the .fbx"
   ]
  },
  {
   "cell_type": "code",
   "execution_count": 5,
   "id": "aee6b12e",
   "metadata": {},
   "outputs": [
    {
     "name": "stdout",
     "output_type": "stream",
     "text": [
      "../Mixamo_fbx/Amy/Baseball Pitching.fbx\n",
      "../Mixamo_fbx/Amy/Body Jab Cross.fbx\n",
      "../Mixamo_fbx/Amy/Box Turn.fbx\n",
      "../Mixamo_fbx/Amy/Braced Hang Hop Up.fbx\n",
      "../Mixamo_fbx/Amy/Catwalk Idle To Walk Forward.fbx\n",
      "../Mixamo_fbx/Amy/Catwalk Twist R To Walk 180.fbx\n",
      "../Mixamo_fbx/Amy/Catwalk Walk Forward Arc 90L.fbx\n",
      "../Mixamo_fbx/Amy/Taking A Pill.fbx\n",
      "../Mixamo_fbx/Amy/Taunt Gesture.fbx\n",
      "../Mixamo_fbx/Amy/Troca 1.fbx\n",
      "../Mixamo_fbx/Amy/Turn 90 Left.fbx\n",
      "../Mixamo_fbx/Amy/Unarmed Turn Right 90.fbx\n",
      "../Mixamo_fbx/Amy/Wheelbarrow Walk Turn.fbx\n",
      "../Mixamo_fbx/Amy/Zombie Stand Up.fbx\n",
      "../Mixamo_fbx/James/Baseball Pitching.fbx\n",
      "../Mixamo_fbx/James/Body Jab Cross.fbx\n",
      "../Mixamo_fbx/James/Box Turn.fbx\n",
      "../Mixamo_fbx/James/Braced Hang Hop Up.fbx\n",
      "../Mixamo_fbx/James/Catwalk Idle To Walk Forward.fbx\n",
      "../Mixamo_fbx/James/Catwalk Twist R To Walk 180.fbx\n",
      "../Mixamo_fbx/James/Catwalk Walk Forward Arc 90L.fbx\n",
      "../Mixamo_fbx/James/Taking A Pill.fbx\n",
      "../Mixamo_fbx/James/Taunt Gesture.fbx\n",
      "../Mixamo_fbx/James/Troca 1.fbx\n",
      "../Mixamo_fbx/James/Turn 90 Left.fbx\n",
      "../Mixamo_fbx/James/Unarmed Turn Right 90.fbx\n",
      "../Mixamo_fbx/James/Wheelbarrow Walk Turn.fbx\n",
      "../Mixamo_fbx/James/Zombie Stand Up.fbx\n",
      "../Mixamo_fbx/Megan/Baseball Pitching.fbx\n",
      "../Mixamo_fbx/Megan/Body Jab Cross.fbx\n",
      "../Mixamo_fbx/Megan/Box Turn.fbx\n",
      "../Mixamo_fbx/Megan/Braced Hang Hop Up.fbx\n",
      "../Mixamo_fbx/Megan/Catwalk Idle To Walk Forward.fbx\n",
      "../Mixamo_fbx/Megan/Catwalk Twist R To Walk 180.fbx\n",
      "../Mixamo_fbx/Megan/Catwalk Walk Forward Arc 90L.fbx\n",
      "../Mixamo_fbx/Megan/Taking A Pill.fbx\n",
      "../Mixamo_fbx/Megan/Taunt Gesture.fbx\n",
      "../Mixamo_fbx/Megan/Troca 1.fbx\n",
      "../Mixamo_fbx/Megan/Turn 90 Left.fbx\n",
      "../Mixamo_fbx/Megan/Unarmed Turn Right 90.fbx\n",
      "../Mixamo_fbx/Megan/Wheelbarrow Walk Turn.fbx\n",
      "../Mixamo_fbx/Megan/Zombie Stand Up.fbx\n",
      "../Mixamo_fbx/Ninja/Baseball Pitching.fbx\n",
      "../Mixamo_fbx/Ninja/Body Jab Cross.fbx\n",
      "../Mixamo_fbx/Ninja/Box Turn.fbx\n",
      "../Mixamo_fbx/Ninja/Braced Hang Hop Up.fbx\n",
      "../Mixamo_fbx/Ninja/Catwalk Idle To Walk Forward.fbx\n",
      "../Mixamo_fbx/Ninja/Catwalk Twist R To Walk 180.fbx\n",
      "../Mixamo_fbx/Ninja/Catwalk Walk Forward Arc 90L.fbx\n",
      "../Mixamo_fbx/Ninja/Taking A Pill.fbx\n",
      "../Mixamo_fbx/Ninja/Taunt Gesture.fbx\n",
      "../Mixamo_fbx/Ninja/Troca 1.fbx\n",
      "../Mixamo_fbx/Ninja/Turn 90 Left.fbx\n",
      "../Mixamo_fbx/Ninja/Unarmed Turn Right 90.fbx\n",
      "../Mixamo_fbx/Ninja/Wheelbarrow Walk Turn.fbx\n",
      "../Mixamo_fbx/Ninja/Zombie Stand Up.fbx\n"
     ]
    }
   ],
   "source": [
    "folder = \"../Mixamo_fbx\"\n",
    "character_list = os.listdir(folder)\n",
    "for character in character_list:\n",
    "    mouvement_list = os.listdir(os.path.join(folder, character))\n",
    "    for mouvement in mouvement_list:\n",
    "        if mouvement.endswith('.fbx'):\n",
    "            cmd = '../Mixamo_fbx/{}/{}'.format(character,mouvement)\n",
    "            print(cmd)\n",
    "            os.remove(cmd)"
   ]
  },
  {
   "cell_type": "code",
   "execution_count": null,
   "id": "7bbec7df",
   "metadata": {},
   "outputs": [],
   "source": []
  }
 ],
 "metadata": {
  "kernelspec": {
   "display_name": "Python 3 (ipykernel)",
   "language": "python",
   "name": "python3"
  },
  "language_info": {
   "codemirror_mode": {
    "name": "ipython",
    "version": 3
   },
   "file_extension": ".py",
   "mimetype": "text/x-python",
   "name": "python",
   "nbconvert_exporter": "python",
   "pygments_lexer": "ipython3",
   "version": "3.7.13"
  },
  "vscode": {
   "interpreter": {
    "hash": "977db75128c3fed9f37c471b73bfa9a12015086b1f9f641de779e86f13efb9a2"
   }
  }
 },
 "nbformat": 4,
 "nbformat_minor": 5
}
